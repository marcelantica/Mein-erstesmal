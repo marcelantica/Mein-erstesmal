{
 "cells": [
  {
   "cell_type": "code",
   "execution_count": 9,
   "metadata": {},
   "outputs": [
    {
     "name": "stdout",
     "output_type": "stream",
     "text": [
      "30\n",
      "0.42857142857142855\n",
      "1893350184\n",
      "46656\n",
      "0.22666666666666666\n",
      "2\n",
      "3\n",
      "2.3333333333333335\n",
      "20\n",
      "27\n",
      "3\n",
      "0\n"
     ]
    }
   ],
   "source": [
    "myFirstInteger = 30\n",
    "print(myFirstInteger)\n",
    "print(3/7)\n",
    "print(808088*2343)\n",
    "print(6**6)\n",
    "print(17/75)\n",
    "print(17%5)# teilen Ergebniss bleibt rest\n",
    "print(17//5)# teilen mit rest\n",
    "print(7/3)# teilen\n",
    "print(10*2) #multiplizieren\n",
    "print(3**3) # potenzieren\n",
    "print(1+2) # addiert\n",
    "print(3-3) # subtraktion\n",
    "\n"
   ]
  },
  {
   "cell_type": "code",
   "execution_count": 10,
   "metadata": {},
   "outputs": [
    {
     "name": "stdout",
     "output_type": "stream",
     "text": [
      "5\n"
     ]
    }
   ],
   "source": [
    "myFirstInteger = 15\n",
    "mySecondInteger = 10\n",
    "e = myFirstInteger - mySecondInteger # zwei Variablen subtrahiert un in e gepackt\n",
    "print(e)"
   ]
  },
  {
   "cell_type": "code",
   "execution_count": 13,
   "metadata": {},
   "outputs": [
    {
     "name": "stdout",
     "output_type": "stream",
     "text": [
      "63\n"
     ]
    }
   ],
   "source": [
    "age = 42\n",
    "age + 10 # Keine additon mit nur dieser Ausssage möglich\n",
    "age = age + 10 # Addieren von zwei Zahlen aber beide mit dem gleiche (age)angesprochen\n",
    "age += 10 # Kurzbefehl ist das gleiche wie oben\n",
    "age = age + 1\n",
    "print(age)"
   ]
  },
  {
   "cell_type": "code",
   "execution_count": 15,
   "metadata": {},
   "outputs": [
    {
     "name": "stdout",
     "output_type": "stream",
     "text": [
      "42\n",
      "94054733372616\n",
      "43\n",
      "94054733372648\n"
     ]
    }
   ],
   "source": [
    "age = 42\n",
    "print(age) # Gibt den Inhalt des Speichers aus  \n",
    "print(id(age)) # Gibt die Adresse des Speichers aus nicht dem Inhalt\n",
    "\n",
    "age = 43\n",
    "print(age)\n",
    "print(id(age)) # Gibt die Adresse den Speichers aus nicht den Inhalt"
   ]
  },
  {
   "cell_type": "code",
   "execution_count": 21,
   "metadata": {},
   "outputs": [
    {
     "name": "stdout",
     "output_type": "stream",
     "text": [
      "132451915256704\n",
      "{4, 5}\n",
      "132451915256704\n",
      "132451915256928\n"
     ]
    }
   ],
   "source": [
    "myList = set() # Erstellen einer Liste\n",
    "print(id(myList))\n",
    "myList.add(3) # Wert 3 in der Liste hinzufügen\n",
    "myList.add(4) # Wert 4 in der Liste hinzufügen\n",
    "myList.add(5) # Wert 5 in der Liste hinzufügen\n",
    "myList.remove(3) # Wert 3 in der Liste entfernet\n",
    "print(myList)\n",
    "print(id(myList))\n",
    "myList = set()\n",
    "print(id(myList))"
   ]
  },
  {
   "cell_type": "code",
   "execution_count": 25,
   "metadata": {},
   "outputs": [
    {
     "name": "stdout",
     "output_type": "stream",
     "text": [
      "1\n",
      "1.75\n",
      "3,41\n",
      "3,41marvin\n"
     ]
    }
   ],
   "source": [
    "t1 = int(1.75) # int wertet nur gerade zahlen\n",
    "print(t1)\n",
    "t1 = 1.75 # wertet den ganzen Zahlenwert aus\n",
    "print(t1)\n",
    "t1 = \"3,41\" # wertet den ganzen Zahlenwert aus\n",
    "print(t1)\n",
    "t1 = \"3,41\" + \"marvin\" \n",
    "print(t1)\n"
   ]
  },
  {
   "cell_type": "code",
   "execution_count": 28,
   "metadata": {},
   "outputs": [
    {
     "name": "stdout",
     "output_type": "stream",
     "text": [
      "22\n",
      "1052945\n",
      "1053045\n"
     ]
    }
   ],
   "source": [
    "t2 = int(\"10110\" , base=2) # 0 1 2 3 4 5 6 7 8 9 10 11 12 13 14 15 16 17\n",
    "print(t2)        \n",
    "t2 = int(\"101111\" , base=16) #Hexadez (0 1 2 3 4 5 6 7 8 9 A B C D E F)\n",
    "print(t2)\n",
    "t2 = t2 + 100\n",
    "print(t2)"
   ]
  },
  {
   "cell_type": "code",
   "execution_count": 29,
   "metadata": {},
   "outputs": [
    {
     "data": {
      "text/plain": [
       "sys.float_info(max=1.7976931348623157e+308, max_exp=1024, max_10_exp=308, min=2.2250738585072014e-308, min_exp=-1021, min_10_exp=-307, dig=15, mant_dig=53, epsilon=2.220446049250313e-16, radix=2, rounds=1)"
      ]
     },
     "execution_count": 29,
     "metadata": {},
     "output_type": "execute_result"
    }
   ],
   "source": [
    "import sys\n",
    "sys.float_info"
   ]
  },
  {
   "cell_type": "code",
   "execution_count": 34,
   "metadata": {},
   "outputs": [
    {
     "name": "stdout",
     "output_type": "stream",
     "text": [
      "False\n"
     ]
    }
   ],
   "source": [
    "print (0.3-(0.1*3)== 0)\n",
    "\n"
   ]
  },
  {
   "cell_type": "code",
   "execution_count": 38,
   "metadata": {},
   "outputs": [
    {
     "name": "stdout",
     "output_type": "stream",
     "text": [
      "1\n",
      "0\n",
      "True\n",
      "False\n",
      "True\n",
      "True\n",
      "False\n"
     ]
    },
    {
     "ename": "NameError",
     "evalue": "name 'Print' is not defined",
     "output_type": "error",
     "traceback": [
      "\u001b[0;31m---------------------------------------------------------------------------\u001b[0m",
      "\u001b[0;31mNameError\u001b[0m                                 Traceback (most recent call last)",
      "Cell \u001b[0;32mIn[38], line 8\u001b[0m\n\u001b[1;32m      6\u001b[0m \u001b[38;5;28mprint\u001b[39m(\u001b[38;5;28mbool\u001b[39m(\u001b[38;5;241m10\u001b[39m))\n\u001b[1;32m      7\u001b[0m \u001b[38;5;28mprint\u001b[39m(\u001b[38;5;129;01mnot\u001b[39;00m \u001b[38;5;28;01mTrue\u001b[39;00m)\n\u001b[0;32m----> 8\u001b[0m \u001b[43mPrint\u001b[49m(\u001b[38;5;129;01mnot\u001b[39;00m \u001b[38;5;28;01mFalse\u001b[39;00m)\n",
      "\u001b[0;31mNameError\u001b[0m: name 'Print' is not defined"
     ]
    }
   ],
   "source": [
    "print(int(True))\n",
    "print(int(False))\n",
    "print(bool(1))\n",
    "print(bool(0))\n",
    "print(bool(-10))\n",
    "print(bool(10))\n",
    "print(not True)\n",
    "Print(not False)\n"
   ]
  },
  {
   "cell_type": "code",
   "execution_count": 41,
   "metadata": {},
   "outputs": [
    {
     "name": "stdout",
     "output_type": "stream",
     "text": [
      "3.14\n",
      "2.73\n",
      "(3.14-2.73j)\n"
     ]
    }
   ],
   "source": [
    "c = complex(3.14,2.73)\n",
    "print(c.real)\n",
    "print(c.imag)\n",
    "print(c.conjugate())"
   ]
  },
  {
   "cell_type": "code",
   "execution_count": 43,
   "metadata": {},
   "outputs": [
    {
     "name": "stdout",
     "output_type": "stream",
     "text": [
      "Hallo \n",
      " Welt\n"
     ]
    }
   ],
   "source": [
    "str = \"Hallo \\n Welt\"\n",
    "str1 ='Hallo Welt' \n",
    "str2 = \"\"\"Hallo\n",
    "\n",
    "Welt\"\"\"\n",
    "str3 = '''Hallo\n",
    "\n",
    "Welt'''\n",
    "print(str)"
   ]
  },
  {
   "cell_type": "code",
   "execution_count": null,
   "metadata": {},
   "outputs": [],
   "source": []
  }
 ],
 "metadata": {
  "kernelspec": {
   "display_name": "Python 3",
   "language": "python",
   "name": "python3"
  },
  "language_info": {
   "codemirror_mode": {
    "name": "ipython",
    "version": 3
   },
   "file_extension": ".py",
   "mimetype": "text/x-python",
   "name": "python",
   "nbconvert_exporter": "python",
   "pygments_lexer": "ipython3",
   "version": "3.12.1"
  }
 },
 "nbformat": 4,
 "nbformat_minor": 2
}
